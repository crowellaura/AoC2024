{
 "cells": [
  {
   "cell_type": "code",
   "execution_count": 3,
   "id": "0e561cf7",
   "metadata": {},
   "outputs": [],
   "source": [
    "import pandas as pd"
   ]
  },
  {
   "cell_type": "code",
   "execution_count": 44,
   "id": "74e8c426",
   "metadata": {},
   "outputs": [
    {
     "name": "stdout",
     "output_type": "stream",
     "text": [
      "       0   1   2      3\n",
      "0  37033 NaN NaN  48086\n",
      "1  80098 NaN NaN  34930\n",
      "2  88073 NaN NaN  69183\n",
      "3  54342 NaN NaN  63061\n",
      "4  98409 NaN NaN  87908\n"
     ]
    },
    {
     "data": {
      "text/plain": [
       "Int64Index([0, 1, 2, 3], dtype='int64')"
      ]
     },
     "execution_count": 44,
     "metadata": {},
     "output_type": "execute_result"
    }
   ],
   "source": [
    "#Loading data into notebook from \n",
    "\n",
    "data = pd.read_csv('/Users/lauracrowell/Documents/advent day 1 - 1.txt', sep=\" \", header=None)\n",
    "print(data.head())\n",
    "data.columns"
   ]
  },
  {
   "cell_type": "code",
   "execution_count": 47,
   "id": "e75d2d02",
   "metadata": {},
   "outputs": [
    {
     "data": {
      "text/html": [
       "<div>\n",
       "<style scoped>\n",
       "    .dataframe tbody tr th:only-of-type {\n",
       "        vertical-align: middle;\n",
       "    }\n",
       "\n",
       "    .dataframe tbody tr th {\n",
       "        vertical-align: top;\n",
       "    }\n",
       "\n",
       "    .dataframe thead th {\n",
       "        text-align: right;\n",
       "    }\n",
       "</style>\n",
       "<table border=\"1\" class=\"dataframe\">\n",
       "  <thead>\n",
       "    <tr style=\"text-align: right;\">\n",
       "      <th></th>\n",
       "      <th>0</th>\n",
       "      <th>3</th>\n",
       "    </tr>\n",
       "  </thead>\n",
       "  <tbody>\n",
       "    <tr>\n",
       "      <th>0</th>\n",
       "      <td>37033</td>\n",
       "      <td>48086</td>\n",
       "    </tr>\n",
       "    <tr>\n",
       "      <th>1</th>\n",
       "      <td>80098</td>\n",
       "      <td>34930</td>\n",
       "    </tr>\n",
       "    <tr>\n",
       "      <th>2</th>\n",
       "      <td>88073</td>\n",
       "      <td>69183</td>\n",
       "    </tr>\n",
       "    <tr>\n",
       "      <th>3</th>\n",
       "      <td>54342</td>\n",
       "      <td>63061</td>\n",
       "    </tr>\n",
       "    <tr>\n",
       "      <th>4</th>\n",
       "      <td>98409</td>\n",
       "      <td>87908</td>\n",
       "    </tr>\n",
       "  </tbody>\n",
       "</table>\n",
       "</div>"
      ],
      "text/plain": [
       "       0      3\n",
       "0  37033  48086\n",
       "1  80098  34930\n",
       "2  88073  69183\n",
       "3  54342  63061\n",
       "4  98409  87908"
      ]
     },
     "execution_count": 47,
     "metadata": {},
     "output_type": "execute_result"
    }
   ],
   "source": [
    "#Removing columns 1, 2 as they aren't needed/loaded arbitrarily\n",
    "\n",
    "df = data.drop(data.columns[[1,2]], axis=1)\n",
    "df.head()"
   ]
  },
  {
   "cell_type": "code",
   "execution_count": 52,
   "id": "430b34cf",
   "metadata": {},
   "outputs": [
    {
     "data": {
      "text/html": [
       "<div>\n",
       "<style scoped>\n",
       "    .dataframe tbody tr th:only-of-type {\n",
       "        vertical-align: middle;\n",
       "    }\n",
       "\n",
       "    .dataframe tbody tr th {\n",
       "        vertical-align: top;\n",
       "    }\n",
       "\n",
       "    .dataframe thead th {\n",
       "        text-align: right;\n",
       "    }\n",
       "</style>\n",
       "<table border=\"1\" class=\"dataframe\">\n",
       "  <thead>\n",
       "    <tr style=\"text-align: right;\">\n",
       "      <th></th>\n",
       "      <th>Group 1</th>\n",
       "      <th>Group 2</th>\n",
       "    </tr>\n",
       "  </thead>\n",
       "  <tbody>\n",
       "    <tr>\n",
       "      <th>0</th>\n",
       "      <td>37033</td>\n",
       "      <td>48086</td>\n",
       "    </tr>\n",
       "    <tr>\n",
       "      <th>1</th>\n",
       "      <td>80098</td>\n",
       "      <td>34930</td>\n",
       "    </tr>\n",
       "    <tr>\n",
       "      <th>2</th>\n",
       "      <td>88073</td>\n",
       "      <td>69183</td>\n",
       "    </tr>\n",
       "    <tr>\n",
       "      <th>3</th>\n",
       "      <td>54342</td>\n",
       "      <td>63061</td>\n",
       "    </tr>\n",
       "    <tr>\n",
       "      <th>4</th>\n",
       "      <td>98409</td>\n",
       "      <td>87908</td>\n",
       "    </tr>\n",
       "  </tbody>\n",
       "</table>\n",
       "</div>"
      ],
      "text/plain": [
       "   Group 1  Group 2\n",
       "0    37033    48086\n",
       "1    80098    34930\n",
       "2    88073    69183\n",
       "3    54342    63061\n",
       "4    98409    87908"
      ]
     },
     "execution_count": 52,
     "metadata": {},
     "output_type": "execute_result"
    }
   ],
   "source": [
    "#Renaming column headers for readability \n",
    "\n",
    "df.columns = ['Group 1', 'Group 2']\n",
    "df.head()"
   ]
  },
  {
   "cell_type": "code",
   "execution_count": 112,
   "id": "291a35ba",
   "metadata": {},
   "outputs": [
    {
     "data": {
      "text/plain": [
       "[[10204, 10033], [10218, 10062], [10355, 10345]]"
      ]
     },
     "execution_count": 112,
     "metadata": {},
     "output_type": "execute_result"
    }
   ],
   "source": [
    "#Creating lists out of df columns for indexing\n",
    "\n",
    "left = df['Group 1'].to_list()\n",
    "right = df['Group 2'].to_list()\n",
    "\n",
    "#Sorting lists from smallest to largest values\n",
    "left.sort()\n",
    "right.sort()\n",
    "\n",
    "left[0:3]\n",
    "right[0:3]\n",
    "\n",
    "both = list(zip(left,right))\n",
    "both_list = [list(i) for i in both]\n",
    "both_list[0:3]"
   ]
  },
  {
   "cell_type": "code",
   "execution_count": 109,
   "id": "2d82c4fa",
   "metadata": {},
   "outputs": [
    {
     "data": {
      "text/plain": [
       "[171, 156, 10]"
      ]
     },
     "execution_count": 109,
     "metadata": {},
     "output_type": "execute_result"
    }
   ],
   "source": [
    "#Finding difference between concatenated list values\n",
    "difference = [abs(i-j) for i,j in both_list]\n",
    "difference[0:3]"
   ]
  },
  {
   "cell_type": "code",
   "execution_count": 111,
   "id": "974e97b2",
   "metadata": {},
   "outputs": [
    {
     "data": {
      "text/plain": [
       "1223326"
      ]
     },
     "execution_count": 111,
     "metadata": {},
     "output_type": "execute_result"
    }
   ],
   "source": [
    "#Sum of differences\n",
    "def totals(lists):\n",
    "    total = 0\n",
    "    for i in lists:\n",
    "        total +=i\n",
    "    return total\n",
    "\n",
    "totals(difference)"
   ]
  }
 ],
 "metadata": {
  "kernelspec": {
   "display_name": "Python 3",
   "language": "python",
   "name": "python3"
  },
  "language_info": {
   "codemirror_mode": {
    "name": "ipython",
    "version": 3
   },
   "file_extension": ".py",
   "mimetype": "text/x-python",
   "name": "python",
   "nbconvert_exporter": "python",
   "pygments_lexer": "ipython3",
   "version": "3.8.8"
  }
 },
 "nbformat": 4,
 "nbformat_minor": 5
}
