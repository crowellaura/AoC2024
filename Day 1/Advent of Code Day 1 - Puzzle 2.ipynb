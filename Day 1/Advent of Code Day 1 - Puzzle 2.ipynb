{
 "cells": [
  {
   "cell_type": "code",
   "execution_count": 2,
   "id": "61b9d876",
   "metadata": {},
   "outputs": [],
   "source": [
    "import pandas as pd"
   ]
  },
  {
   "cell_type": "code",
   "execution_count": 3,
   "id": "3961ff69",
   "metadata": {},
   "outputs": [],
   "source": [
    "data = pd.read_csv(REDACTED, sep=\" \", header=None)"
   ]
  },
  {
   "cell_type": "code",
   "execution_count": 4,
   "id": "d494404a",
   "metadata": {},
   "outputs": [],
   "source": [
    "df = data.drop(data.columns[[1,2]], axis=1)\n",
    "df.columns = ['Group 1', 'Group 2']\n",
    "left = df['Group 1'].to_list()\n",
    "right = df['Group 2'].to_list()"
   ]
  },
  {
   "cell_type": "code",
   "execution_count": 20,
   "id": "8f4dc30a",
   "metadata": {},
   "outputs": [],
   "source": [
    "def element_count(lista,listb):\n",
    "    counts = []\n",
    "    \n",
    "    for x in lista:\n",
    "        for y in listb:\n",
    "            if x==y:\n",
    "                counts.append(x)\n",
    "    return counts\n",
    "\n",
    "multiples = element_count(left,right)"
   ]
  },
  {
   "cell_type": "code",
   "execution_count": 21,
   "id": "70491b95",
   "metadata": {},
   "outputs": [
    {
     "data": {
      "text/plain": [
       "21070419"
      ]
     },
     "execution_count": 21,
     "metadata": {},
     "output_type": "execute_result"
    }
   ],
   "source": [
    "def totals(lists):\n",
    "    total = 0\n",
    "    for x in lists:\n",
    "        total+=x\n",
    "    return total\n",
    "totals(multiples)"
   ]
  }
 ],
 "metadata": {
  "kernelspec": {
   "display_name": "Python 3",
   "language": "python",
   "name": "python3"
  },
  "language_info": {
   "codemirror_mode": {
    "name": "ipython",
    "version": 3
   },
   "file_extension": ".py",
   "mimetype": "text/x-python",
   "name": "python",
   "nbconvert_exporter": "python",
   "pygments_lexer": "ipython3",
   "version": "3.8.8"
  }
 },
 "nbformat": 4,
 "nbformat_minor": 5
}
